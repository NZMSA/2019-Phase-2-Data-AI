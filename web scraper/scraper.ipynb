{
  "cells": [
    {
      "metadata": {
        "trusted": true
      },
      "cell_type": "code",
      "source": "from bs4 import BeautifulSoup as bs\nimport requests\nimport random\nimport time\nimport re\nimport pandas as pd",
      "execution_count": 10,
      "outputs": []
    },
    {
      "metadata": {
        "trusted": true
      },
      "cell_type": "code",
      "source": "def get_brands(response):\n    brands_dict = {}\n    html = response.content\n    page_soup = bs(html, \"lxml\")\n    output = page_soup.find(\"div\", {\"id\": \"brandsRefinements\"})\n    brands = output.find_all(\"span\", {\"class\": \"a-size-base a-color-base\"})\n    \n    links = output.find_all(\"a\", {\"class\":\"a-link-normal s-navigation-item\"})\n    \n    for i in range(len(brands)):\n        brands_dict[brands[i].text] = links[i]['href']\n        \n    return(brands_dict)\n    ",
      "execution_count": 2,
      "outputs": []
    },
    {
      "metadata": {
        "trusted": true
      },
      "cell_type": "code",
      "source": "def get_product_name(product):\n    product_title = 'N/A'\n    try:\n        product_title = product.find('span', {'class', 'a-size-base-plus a-color-base a-text-normal'}).text\n    except AttributeError:\n        print('missing title')\n    return product_title",
      "execution_count": 3,
      "outputs": []
    },
    {
      "metadata": {
        "trusted": true
      },
      "cell_type": "code",
      "source": "def get_product_name(product):\n    product_name = \"N/A\"\n    try:\n        product_name = product.find('span', {'class' : 'a-size-base-plus a-color-base a-text-normal'}).text\n    except AttributeError:\n        print('missing product name')\n        \n    return product_name\n    \n        \ndef get_prices(product):\n    discounted = 'N/A'\n    current_price = 'N/A'\n    original_price = 'N/A'\n    \n    try:\n        price = product.find_all(\"span\", {'class': 'a-offscreen'})\n        current_price = price[0].text\n\n        if (len(price) < 2):\n            original_price = price[0].text\n            discounted = False\n        else:\n            original_price = price[1].text\n            discounted = True\n    except (AttributeError, IndexError):\n        print('missing product price')\n        \n    return {\n            \"current price\" : current_price,\n            \"original price\" : original_price,\n            \"discounted\" : discounted\n           }\n\ndef get_product_review_number(product):\n    product_review_number = \"N/A\"\n    try:\n        product_review_number = product.find('span', {'class': 'a-size-base'}).text\n    except AttributeError:\n        print('missing product review number') \n    \n    return product_review_number\n\ndef get_product_number_of_stars(product):\n    product_number_of_stars = \"N/A\"\n    \n    try:\n        product_number_of_stars = product.find('span', {'class': 'a-icon-alt'}).text\n    except AttributeError:\n        print('missing product stars') \n        \n    return product_number_of_stars\n\ndef get_shipping_information(product):\n    try:\n        product_shipping = product(text=re.compile('ship'))\n    except AttributeError:\n        product_shipping = \"N/A\"\n        print('missing product shipping')   ",
      "execution_count": 4,
      "outputs": []
    },
    {
      "metadata": {
        "trusted": true
      },
      "cell_type": "code",
      "source": "def scrap(brands, url, header):\n    product_dict = {}\n    index = 1\n    for brand, link in brands.items():\n        for page in range(1,8):\n            \n            wait_time = random.uniform(7,16)\n            time.sleep(wait_time)\n            print (\"Scraping: \" + url + link + '&page=' + str(page))\n            response = requests.get(url + link + '&page=' + str(page), headers=header)\n            html = response.content\n            page_soup = bs(html, 'lxml')\n            products = page_soup.find_all('div', {'class' : 's-expand-height s-include-content-margin s-border-bottom'})\n            \n            if products is None:\n                break\n            \n        \n            rank_count = 1\n            for product in products:\n                price_info = get_prices(product)\n                product_dict[index] = {\n                        \"product_name\" : get_product_name(product),\n                        \"brand_name\" : brand,\n                        \"current_price\" : price_info[\"current price\"],\n                        \"original_price\" : price_info[\"original price\"],\n                        \"discounted\" : price_info[\"discounted\"],\n                        \"number_of_reviews\" : get_product_review_number(product),\n                        \"number_of_stars\" : get_product_number_of_stars(product),\n                        \"product_shipping\" : get_shipping_information(product),\n                        \"page\" : page,\n                        \"page_rank\" : rank_count\n                        }\n                rank_count = rank_count + 1\n                index = index + 1\n            print(\"Number of products scrapped: \" + str(len(product_dict)))\n            break # limit one page\n        break # limit to one brand\n    return product_dict\n            \n            ",
      "execution_count": 5,
      "outputs": []
    },
    {
      "metadata": {
        "trusted": true,
        "scrolled": true
      },
      "cell_type": "code",
      "source": "\n\nurl = 'https://www.amazon.com'\nproduct_url = url + '/s?k=iphone+case' \nheader={'user-agent':''}\n\nresponse = requests.get(product_url, headers=header)\n\nif response.status_code != 200:\n    print(\"Error: \" + response.status_code)\n    exit(0)\nelse:\n    print(\"Response: \" + str(response.status_code))\n    \nprint(response)\nbrands = get_brands(response)\n\nproducts = scrap(brands, url, header)\n\nprint(\"Total number of products scraped: \" + str(len(products)))\n\n# write results to a file\ndf = pd.DataFrame.from_dict(products, orient='index')\ndf.to_csv('./output-test-2.csv')\n",
      "execution_count": 11,
      "outputs": [
        {
          "output_type": "stream",
          "text": "Response: 200\n<Response [200]>\nScraping: https://www.amazon.com/s?k=iphone+case&rh=p_89%3ASpigen&dc&qid=1564186583&rnid=2528832011&ref=sr_nr_p_89_1&page=1\nNumber of products scrapped: 48\nTotal number of products scraped: 48\n",
          "name": "stdout"
        }
      ]
    },
    {
      "metadata": {
        "trusted": true
      },
      "cell_type": "code",
      "source": "",
      "execution_count": null,
      "outputs": []
    }
  ],
  "metadata": {
    "kernelspec": {
      "name": "python36",
      "display_name": "Python 3.6",
      "language": "python"
    },
    "language_info": {
      "mimetype": "text/x-python",
      "nbconvert_exporter": "python",
      "name": "python",
      "pygments_lexer": "ipython3",
      "version": "3.6.6",
      "file_extension": ".py",
      "codemirror_mode": {
        "version": 3,
        "name": "ipython"
      }
    }
  },
  "nbformat": 4,
  "nbformat_minor": 2
}