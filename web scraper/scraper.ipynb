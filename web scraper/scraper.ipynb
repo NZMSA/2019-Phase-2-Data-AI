{
  "cells": [
    {
      "metadata": {
        "trusted": true
      },
      "cell_type": "code",
      "source": "# -*- coding: utf-8 -*-\n\"\"\"\nCreated on Sun Jun 30 16:12:51 2019\n\n@author: Karim Cissé\n\"\"\"\n\nimport requests\nfrom bs4 import BeautifulSoup\nimport pandas as pd\nimport time\nimport random\nimport re # regex\n\ndef get_brands(response):\n    brands_dict = {}\n    html = response.content\n    page_soup = BeautifulSoup(html, \"html.parser\")\n    output = page_soup.find(\"div\", {\"id\": \"brandsRefinements\"})\n    brands = output.find_all(\"span\", {\"class\": \"a-size-base a-color-base\"})\n    \n    links = output.find_all(\"a\", {\"class\":\"a-link-normal s-navigation-item\"})\n    \n    for i in range(len(brands)):\n        brands_dict[brands[i].text] = links[i]['href']\n        \n    return(brands_dict)\n\n'''def get_user_agent():\n    user_agents = [\"Mozilla/5.0 (Windows NT 10.0; Win64; x64) AppleWebKit/537.36 (KHTML, like Gecko) Chrome/70.0.3538.77 Safari/537.36\", \"Mozilla/5.0 (Windows NT 6.2; WOW64) AppleWebKit/537.36 (KHTML like Gecko) Chrome/44.0.2403.155 Safari/537.36\", \"Mozilla/5.0 (Windows NT 6.1) AppleWebKit/537.36 (KHTML, like Gecko) Chrome/41.0.2228.0 Safari/537.36\", \"Mozilla/5.0 (Macintosh; Intel Mac OS X 10_10_1) AppleWebKit/537.36 (KHTML, like Gecko) Chrome/41.0.2227.1 Safari/537.36\", \"Mozilla/5.0 (Windows NT 6.1; WOW64) AppleWebKit/537.36 (KHTML, like Gecko) Chrome/41.0.2227.0 Safari/537.36\", \"Mozilla/5.0 (Windows NT 6.3; WOW64) AppleWebKit/537.36 (KHTML, like Gecko) Chrome/41.0.2226.0 Safari/537.36\", \"Mozilla/5.0 (Windows NT 6.4; WOW64) AppleWebKit/537.36 (KHTML, like Gecko) Chrome/41.0.2225.0 Safari/537.36\", \"Mozilla/5.0 (X11; Linux i686; rv:64.0) Gecko/20100101 Firefox/64.0\", \"Mozilla/5.0 (X11; Linux i586; rv:63.0) Gecko/20100101 Firefox/63.0\"]\n    return {\"user_agent\" : user_agents[random.randint(0,len(user_agents)-1)]}\n'''\ndef get_user_agent():\n    user_agents = [\"Mozilla/5.0 (Windows NT 10.0; Win64; x64) AppleWebKit/537.36 (KHTML, like Gecko) Chrome/70.0.3538.77 Safari/537.36\", \"Mozilla/5.0 (Windows NT 6.2; WOW64) AppleWebKit/537.36 (KHTML like Gecko) Chrome/44.0.2403.155 Safari/537.36\", \"Mozilla/5.0 (Windows NT 6.1) AppleWebKit/537.36 (KHTML, like Gecko) Chrome/41.0.2228.0 Safari/537.36\", \"Mozilla/5.0 (Macintosh; Intel Mac OS X 10_10_1) AppleWebKit/537.36 (KHTML, like Gecko) Chrome/41.0.2227.1 Safari/537.36\", \"Mozilla/5.0 (Windows NT 6.1; WOW64) AppleWebKit/537.36 (KHTML, like Gecko) Chrome/41.0.2227.0 Safari/537.36\", \"Mozilla/5.0 (Windows NT 6.3; WOW64) AppleWebKit/537.36 (KHTML, like Gecko) Chrome/41.0.2226.0 Safari/537.36\", \"Mozilla/5.0 (Windows NT 6.4; WOW64) AppleWebKit/537.36 (KHTML, like Gecko) Chrome/41.0.2225.0 Safari/537.36\", \"Mozilla/5.0 (X11; Linux i686; rv:64.0) Gecko/20100101 Firefox/64.0\", \"Mozilla/5.0 (X11; Linux i586; rv:63.0) Gecko/20100101 Firefox/63.0\"]\n    return {\"user_agent\" : ''}\n\n\ndef get_product_name(product):\n    product_name = \"N/A\"\n    try:\n        product_name = product.find('span', {'class' : 'a-size-base-plus a-color-base a-text-normal'}).text\n    except AttributeError:\n        print('missing product name')\n        \n    return product_name\n    \n        \ndef get_prices(product):\n    discounted = 'N/A'\n    current_price = 'N/A'\n    original_price = 'N/A'\n    \n    try:\n        price = product.find_all(\"span\", {'class': 'a-offscreen'})\n        current_price = price[0].text\n\n        if (len(price) < 2):\n            original_price = price[0].text\n            discounted = False\n        else:\n            original_price = price[1].text\n            discounted = True\n    except (AttributeError, IndexError):\n        print('missing product price')\n        \n    return {\n            \"current price\" : current_price,\n            \"original price\" : original_price,\n            \"discounted\" : discounted\n           }\n\ndef get_product_review_number(product):\n    product_review_number = \"N/A\"\n    try:\n        product_review_number = product.find('span', {'class': 'a-size-base'}).text\n    except AttributeError:\n        print('missing product review number') \n    \n    return product_review_number\n\ndef get_product_number_of_stars(product):\n    product_number_of_stars = \"N/A\"\n    \n    try:\n        product_number_of_stars = product.find('span', {'class': 'a-icon-alt'}).text\n    except AttributeError:\n        print('missing product stars') \n        \n    return product_number_of_stars\n\ndef get_shipping_information(product):\n    try:\n        product_shipping = product(text=re.compile('ship'))\n    except AttributeError:\n        product_shipping = \"N/A\"\n        print('missing product shipping')   \n\n\n\ndef scrap(brands, url, headers):\n    product_dict = {}\n    index = 1\n    for brand, link in brands.items():\n        for page in range(1,8):\n            \n            wait_time = random.uniform(7,16)\n            time.sleep(wait_time) # sleep sp Amazon doesn't get angry\n            print(\"scraping: \" + url + link + \"&page=\" + str(page))\n            response = requests.get(url + link, headers=get_user_agent())\n            html = response.content\n            page_soup = BeautifulSoup(html, 'html.parser')\n            products = page_soup.find_all('div', {'class': 's-expand-height s-include-content-margin s-border-bottom'})\n            \n            # if there are no products on the page the go to the next brand\n            if products is None:\n                break\n                \n            rank_count = 1\n            for product in products:\n                price_info = get_prices(product)\n                product_dict[index] = {\n                        \"product_name\" : get_product_name(product),\n                        \"brand_name\" : brand,\n                        \"current_price\" : price_info[\"current price\"],\n                        \"original_price\" : price_info[\"original price\"],\n                        \"discounted\" : price_info[\"discounted\"],\n                        \"number_of_reviews\" : get_product_review_number(product),\n                        \"number_of_stars\" : get_product_number_of_stars(product),\n                        \"product_shipping\" : get_shipping_information(product),\n                        \"page\" : page,\n                        \"page_rank\" : rank_count\n                        }\n                rank_count = rank_count + 1\n                index = index + 1\n            print(\"Number of products scrapped: \" + str(len(product_dict)))\n            break # limit to one page\n        break # limit to one brand     \n    return product_dict\n\n\nurl = \"https://www.amazon.com\"    \nproduct_url = url + \"/s?k=iphone+case\"\nresponse = requests.get(product_url, headers=get_user_agent())\n\n\nif response.status_code != 200:\n    print(\"Error status code: \" + str(response.status_code))\n    exit(0)\nelse:\n    print(\"Response status code: \" + str(response.status_code))\n\n# It is neccessary to get the brands first to be able to search for more products since Amazon limits the number of products presneted\nbrands = get_brands(response)\n\nproducts = scrap(brands, url, headers=get_user_agent())\n\nprint(\"Total number of products scraped: \" + str(len(products)))\n\n# write results to a file\ndf = pd.DataFrame.from_dict(products, orient='index')\ndf.to_csv('./output-test-2.csv')\n\n\n\n\n    ",
      "execution_count": 1,
      "outputs": [
        {
          "output_type": "stream",
          "text": "Response status code: 200\nscraping: https://www.amazon.com/iphone-case/s?k=iphone+case&rh=p_89%3ASpigen&page=1\nNumber of products scrapped: 48\nTotal number of products scraped: 48\n",
          "name": "stdout"
        }
      ]
    },
    {
      "metadata": {
        "trusted": true
      },
      "cell_type": "code",
      "source": "df = pd.read_csv('./output-test-2.csv')",
      "execution_count": 13,
      "outputs": []
    },
    {
      "metadata": {
        "trusted": true
      },
      "cell_type": "code",
      "source": "df.head()",
      "execution_count": 14,
      "outputs": [
        {
          "output_type": "execute_result",
          "execution_count": 14,
          "data": {
            "text/html": "<div>\n<style scoped>\n    .dataframe tbody tr th:only-of-type {\n        vertical-align: middle;\n    }\n\n    .dataframe tbody tr th {\n        vertical-align: top;\n    }\n\n    .dataframe thead th {\n        text-align: right;\n    }\n</style>\n<table border=\"1\" class=\"dataframe\">\n  <thead>\n    <tr style=\"text-align: right;\">\n      <th></th>\n      <th>Unnamed: 0</th>\n      <th>product_name</th>\n      <th>brand_name</th>\n      <th>current_price</th>\n      <th>original_price</th>\n      <th>discounted</th>\n      <th>number_of_reviews</th>\n      <th>number_of_stars</th>\n      <th>product_shipping</th>\n      <th>page</th>\n      <th>page_rank</th>\n    </tr>\n  </thead>\n  <tbody>\n    <tr>\n      <th>0</th>\n      <td>1</td>\n      <td>NaN</td>\n      <td>Spigen</td>\n      <td>$15.99</td>\n      <td>$15.99</td>\n      <td>False</td>\n      <td>3,489</td>\n      <td>4.4 out of 5 stars</td>\n      <td>NaN</td>\n      <td>1</td>\n      <td>1</td>\n    </tr>\n    <tr>\n      <th>1</th>\n      <td>2</td>\n      <td>NaN</td>\n      <td>Spigen</td>\n      <td>$11.99</td>\n      <td>$11.99</td>\n      <td>False</td>\n      <td>3,040</td>\n      <td>4.4 out of 5 stars</td>\n      <td>NaN</td>\n      <td>1</td>\n      <td>2</td>\n    </tr>\n    <tr>\n      <th>2</th>\n      <td>3</td>\n      <td>NaN</td>\n      <td>Spigen</td>\n      <td>$15.99</td>\n      <td>$15.99</td>\n      <td>False</td>\n      <td>1,631</td>\n      <td>4.6 out of 5 stars</td>\n      <td>NaN</td>\n      <td>1</td>\n      <td>3</td>\n    </tr>\n    <tr>\n      <th>3</th>\n      <td>4</td>\n      <td>NaN</td>\n      <td>Spigen</td>\n      <td>$13.99</td>\n      <td>$13.99</td>\n      <td>False</td>\n      <td>2,704</td>\n      <td>4.4 out of 5 stars</td>\n      <td>NaN</td>\n      <td>1</td>\n      <td>4</td>\n    </tr>\n    <tr>\n      <th>4</th>\n      <td>5</td>\n      <td>NaN</td>\n      <td>Spigen</td>\n      <td>$15.99</td>\n      <td>$15.99</td>\n      <td>False</td>\n      <td>1,363</td>\n      <td>4.7 out of 5 stars</td>\n      <td>NaN</td>\n      <td>1</td>\n      <td>5</td>\n    </tr>\n  </tbody>\n</table>\n</div>",
            "text/plain": "   Unnamed: 0  product_name brand_name current_price original_price  \\\n0           1           NaN     Spigen        $15.99         $15.99   \n1           2           NaN     Spigen        $11.99         $11.99   \n2           3           NaN     Spigen        $15.99         $15.99   \n3           4           NaN     Spigen        $13.99         $13.99   \n4           5           NaN     Spigen        $15.99         $15.99   \n\n   discounted number_of_reviews     number_of_stars  product_shipping  page  \\\n0       False             3,489  4.4 out of 5 stars               NaN     1   \n1       False             3,040  4.4 out of 5 stars               NaN     1   \n2       False             1,631  4.6 out of 5 stars               NaN     1   \n3       False             2,704  4.4 out of 5 stars               NaN     1   \n4       False             1,363  4.7 out of 5 stars               NaN     1   \n\n   page_rank  \n0          1  \n1          2  \n2          3  \n3          4  \n4          5  "
          },
          "metadata": {}
        }
      ]
    }
  ],
  "metadata": {
    "kernelspec": {
      "name": "python36",
      "display_name": "Python 3.6",
      "language": "python"
    },
    "language_info": {
      "mimetype": "text/x-python",
      "nbconvert_exporter": "python",
      "name": "python",
      "pygments_lexer": "ipython3",
      "version": "3.6.6",
      "file_extension": ".py",
      "codemirror_mode": {
        "version": 3,
        "name": "ipython"
      }
    }
  },
  "nbformat": 4,
  "nbformat_minor": 2
}